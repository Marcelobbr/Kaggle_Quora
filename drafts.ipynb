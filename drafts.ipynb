{
 "cells": [
  {
   "cell_type": "code",
   "execution_count": 279,
   "metadata": {
    "collapsed": true
   },
   "outputs": [],
   "source": [
    "list_stopwords = set(stopwords.words(\"english\"))\n",
    "#list_stopwords.remove('what')\n",
    "#list_stopwords.remove('how')\n",
    "#list_stopwords.remove('which')\n",
    "#list_stopwords.remove('where')\n",
    "#list_stopwords.remove('why')\n",
    "#list_stopwords.remove('does')"
   ]
  },
  {
   "cell_type": "code",
   "execution_count": 283,
   "metadata": {
    "collapsed": true
   },
   "outputs": [],
   "source": [
    "#This function will return a Bag of words of our two questions using TF method\n",
    "def vectorizer_tf(data, features = 5000):\n",
    "    \"\"\"\n",
    "    Receives the data frame. Merges all words in question1 and question2 and vectorizes with tf algorithm.\n",
    "    :param phrase: data frame.\n",
    "    :param features: number of features for the vectorizes.\n",
    "    :return: An array with #number of features\n",
    "    \"\"\"\n",
    "    vectorizer_count = CountVectorizer(ngram_range=(1, 2), max_features = features)\n",
    "    \n",
    "    merge = data.question1.append([data.question2])\n",
    "    \n",
    "    vector_fitt = vectorizer_count.fit(merge)\n",
    "    \n",
    "    question1 = vector_fitt.transform(data.question1)\n",
    "    question2 = vector_fitt.transform(data.question2)\n",
    "    \n",
    "    question1 = question1.toarray()\n",
    "    question2 = question2.toarray()\n",
    "    \n",
    "    return question1 + question2\n",
    "\n",
    "#This function will return a Bag of words of our two questions using TF-idf method\n",
    "\n",
    "def vectorizer_tf_idf(data, features = 5000):\n",
    "    \"\"\"\n",
    "    Receives the data frame. Merges all words in question1 and question2 and vectorizes with tf-idf algorithm.\n",
    "    :param data: data frame.\n",
    "    :param features: number of features for the vectorizes.\n",
    "    :return: An array with #number of features\n",
    "    \"\"\"\n",
    "    vectorizer_tf_idf = TfidfVectorizer(ngram_range=(1, 2), max_features = features, sublinear_tf=True)\n",
    "    \n",
    "    merge = data.question1.append([data.question2])\n",
    "    \n",
    "    vector_tf_idf_fitt = vectorizer_tf_idf.fit(merge)\n",
    "    \n",
    "    question1 = vector_tf_idf_fitt.transform(data.question1)\n",
    "    question2 = vector_tf_idf_fitt.transform(data.question2)\n",
    "        \n",
    "    question1 = question1.toarray()\n",
    "    question2 = question2.toarray()\n",
    "    \n",
    "    return question1 + question2"
   ]
  },
  {
   "cell_type": "markdown",
   "metadata": {},
   "source": [
    "# use tf-idf features"
   ]
  },
  {
   "cell_type": "raw",
   "metadata": {
    "collapsed": true
   },
   "source": [
    "quora_train_tf = vectorizer_tf(quora_train, features = 50)"
   ]
  },
  {
   "cell_type": "raw",
   "metadata": {
    "collapsed": true
   },
   "source": [
    "quora_train_tf_idf = vectorizer_tf_idf(quora_train, features = 5000)"
   ]
  },
  {
   "cell_type": "raw",
   "metadata": {},
   "source": [
    "quora_train_tf_idf"
   ]
  },
  {
   "cell_type": "markdown",
   "metadata": {},
   "source": [
    "# train/test split"
   ]
  },
  {
   "cell_type": "raw",
   "metadata": {
    "collapsed": true
   },
   "source": [
    "quora_train_features_tf, quora_test_features_tf, quora_train_y_tf, quora_test_y_tf = model_selection.train_test_split(\n",
    "    quora_train_tf, quora_train['is_duplicate'], test_size = 0.3, random_state = 0)"
   ]
  },
  {
   "cell_type": "raw",
   "metadata": {
    "collapsed": true
   },
   "source": [
    "quora_train_features_tf_idf, quora_test_features_tf_idf, quora_train_y_tf_idf, quora_test_y_tf_idf = model_selection.train_test_split(\n",
    "    quora_train_tf_idf, quora_train['is_duplicate'], test_size = 0.3, random_state = 0)"
   ]
  },
  {
   "cell_type": "markdown",
   "metadata": {},
   "source": [
    "# Machine Learning Models"
   ]
  },
  {
   "cell_type": "code",
   "execution_count": null,
   "metadata": {
    "collapsed": true
   },
   "outputs": [],
   "source": [
    "#randomforest_score = randomforest.score(quora_test_features, quora_test_y)\n",
    "#print(randomforest_score)"
   ]
  },
  {
   "cell_type": "raw",
   "metadata": {},
   "source": [
    "predict"
   ]
  },
  {
   "cell_type": "raw",
   "metadata": {},
   "source": [
    "svc = SVC(probability=True)\n",
    "svc.fit(quora_train_features, quora_train_y)\n",
    "\n",
    "predict = svc.predict_proba(quora_test_features)\n",
    "\n",
    "print(log_loss(quora_test_y,predict))"
   ]
  },
  {
   "cell_type": "raw",
   "metadata": {},
   "source": [
    "scores = cross_val_score(svc, quora_train_features, quora_train_y, cv=5)\n",
    "cvs_svc = numpy.mean(scores)\n",
    "print(cvs_svc)"
   ]
  },
  {
   "cell_type": "raw",
   "metadata": {},
   "source": [
    "knn = KNeighborsClassifier(n_neighbors = 3)\n",
    "knn.fit(quora_train_features, quora_train_y)\n",
    "predict = knn.predict_proba(quora_test_features)\n",
    "\n",
    "print(log_loss(quora_test_y,predict))"
   ]
  },
  {
   "cell_type": "raw",
   "metadata": {},
   "source": [
    "from sklearn.ensemble import RandomForestClassifier\n",
    "\n",
    "randomforest_tf = RandomForestClassifier(n_estimators=300, max_features='auto', bootstrap=False, \n",
    "                               oob_score=False, n_jobs=-1, random_state=0).fit(quora_train_features_tf, quora_train_y_tf)\n",
    "\n",
    "randomforest_tf_score = randomforest_tf.score(quora_test_features_tf, quora_test_y_tf)\n",
    "print(randomforest_tf_score)\n",
    "\n",
    "predict_tf = randomforest_tf.predict_proba(quora_test_features_tf)\n",
    "\n",
    "print(log_loss(quora_test_y_tf,predict_tf))"
   ]
  },
  {
   "cell_type": "raw",
   "metadata": {},
   "source": [
    "randomforest_tf_idf = RandomForestClassifier(n_estimators=300, max_features='auto', \n",
    "                                             bootstrap=False, oob_score=False, \n",
    "                                             n_jobs=-1, \n",
    "                                             random_state=0).fit(quora_train_features_tf_idf, quora_train_y_tf_idf)\n",
    "\n",
    "randomforest_tf_score_idf = randomforest_tf_idf.score(quora_test_features_tf_idf, quora_test_y_tf_idf)\n",
    "print(randomforest_tf_score)\n",
    "\n",
    "predict_tf_idf = randomforest_tf_idf.predict_proba(quora_test_features_tf_idf)\n",
    "\n",
    "print(log_loss(quora_test_y_tf,predict_tf))"
   ]
  },
  {
   "cell_type": "markdown",
   "metadata": {},
   "source": [
    "# "
   ]
  }
 ],
 "metadata": {
  "anaconda-cloud": {},
  "kernelspec": {
   "display_name": "Python [default]",
   "language": "python",
   "name": "python3"
  },
  "language_info": {
   "codemirror_mode": {
    "name": "ipython",
    "version": 3
   },
   "file_extension": ".py",
   "mimetype": "text/x-python",
   "name": "python",
   "nbconvert_exporter": "python",
   "pygments_lexer": "ipython3",
   "version": "3.5.2"
  }
 },
 "nbformat": 4,
 "nbformat_minor": 1
}
